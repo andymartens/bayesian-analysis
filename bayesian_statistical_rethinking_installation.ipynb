{
 "cells": [
  {
   "cell_type": "code",
   "execution_count": 1,
   "metadata": {},
   "outputs": [
    {
     "name": "stderr",
     "output_type": "stream",
     "text": [
      "Warning message:\n",
      "\"dependency 'BiocInstaller' is not available\"also installing the dependencies 'miniUI', 'crosstalk', 'PKI', 'RCurl', 'RJSONIO', 'packrat', 'pkgbuild', 'minqa', 'nloptr', 'colourpicker', 'DT', 'dygraphs', 'gtools', 'rsconnect', 'shinyjs', 'shinythemes', 'threejs', 'rex', 'stringdist', 'igraph', 'brew', 'commonmark', 'desc', 'pkgload', 'ggridges', 'lme4', 'shinystan', 'git2r', 'hunspell', 'lintr', 'bitops', 'roxygen2', 'rversions', 'covr', 'gmailr', 'matrixStats', 'bayesplot', 'rstanarm', 'rstantools'\n",
      "\n",
      "Warning message:\n",
      "\"unable to access index for repository http://www.stats.ox.ac.uk/pub/RWin/bin/windows/contrib/3.5:\n",
      "  cannot open URL 'http://www.stats.ox.ac.uk/pub/RWin/bin/windows/contrib/3.5/PACKAGES'\""
     ]
    },
    {
     "name": "stdout",
     "output_type": "stream",
     "text": [
      "package 'miniUI' successfully unpacked and MD5 sums checked\n",
      "package 'crosstalk' successfully unpacked and MD5 sums checked\n",
      "package 'PKI' successfully unpacked and MD5 sums checked\n",
      "package 'RCurl' successfully unpacked and MD5 sums checked\n",
      "package 'RJSONIO' successfully unpacked and MD5 sums checked\n",
      "package 'packrat' successfully unpacked and MD5 sums checked\n",
      "package 'pkgbuild' successfully unpacked and MD5 sums checked\n",
      "package 'minqa' successfully unpacked and MD5 sums checked\n",
      "package 'nloptr' successfully unpacked and MD5 sums checked\n",
      "package 'colourpicker' successfully unpacked and MD5 sums checked\n",
      "package 'DT' successfully unpacked and MD5 sums checked\n",
      "package 'dygraphs' successfully unpacked and MD5 sums checked\n",
      "package 'gtools' successfully unpacked and MD5 sums checked\n",
      "package 'rsconnect' successfully unpacked and MD5 sums checked\n",
      "package 'shinyjs' successfully unpacked and MD5 sums checked\n",
      "package 'shinythemes' successfully unpacked and MD5 sums checked\n",
      "package 'threejs' successfully unpacked and MD5 sums checked\n",
      "package 'rex' successfully unpacked and MD5 sums checked\n",
      "package 'stringdist' successfully unpacked and MD5 sums checked\n",
      "package 'igraph' successfully unpacked and MD5 sums checked\n",
      "package 'brew' successfully unpacked and MD5 sums checked\n",
      "package 'commonmark' successfully unpacked and MD5 sums checked\n",
      "package 'desc' successfully unpacked and MD5 sums checked\n",
      "package 'pkgload' successfully unpacked and MD5 sums checked\n",
      "package 'ggridges' successfully unpacked and MD5 sums checked\n",
      "package 'lme4' successfully unpacked and MD5 sums checked\n",
      "package 'shinystan' successfully unpacked and MD5 sums checked\n",
      "package 'git2r' successfully unpacked and MD5 sums checked\n",
      "package 'hunspell' successfully unpacked and MD5 sums checked\n",
      "package 'lintr' successfully unpacked and MD5 sums checked\n",
      "package 'bitops' successfully unpacked and MD5 sums checked\n",
      "package 'roxygen2' successfully unpacked and MD5 sums checked\n",
      "package 'rversions' successfully unpacked and MD5 sums checked\n",
      "package 'covr' successfully unpacked and MD5 sums checked\n",
      "package 'gmailr' successfully unpacked and MD5 sums checked\n",
      "package 'matrixStats' successfully unpacked and MD5 sums checked\n",
      "package 'bayesplot' successfully unpacked and MD5 sums checked\n",
      "package 'rstanarm' successfully unpacked and MD5 sums checked\n",
      "package 'rstantools' successfully unpacked and MD5 sums checked\n",
      "package 'devtools' successfully unpacked and MD5 sums checked\n",
      "package 'mvtnorm' successfully unpacked and MD5 sums checked\n",
      "package 'loo' successfully unpacked and MD5 sums checked\n",
      "package 'coda' successfully unpacked and MD5 sums checked\n",
      "\n",
      "The downloaded binary packages are in\n",
      "\tC:\\Users\\amartens\\AppData\\Local\\Temp\\RtmpwHqywC\\downloaded_packages\n"
     ]
    }
   ],
   "source": [
    "# install.packages(c(\"devtools\",\"mvtnorm\",\"loo\",\"coda\"), dependencies=TRUE, .libPaths()[2])"
   ]
  },
  {
   "cell_type": "code",
   "execution_count": null,
   "metadata": {},
   "outputs": [],
   "source": [
    "# i didn't run this because installed these packages above. does it matter that the code below is a repos= specified?\n",
    "# install.packages(c(\"mvtnorm\",\"loo\",\"coda\"), repos=\"https://cloud.r-project.org/\", dependencies=TRUE, .libPaths()[2])"
   ]
  },
  {
   "cell_type": "code",
   "execution_count": 5,
   "metadata": {},
   "outputs": [],
   "source": [
    "options(repos=c(getOption('repos'), rethinking='http://xcelab.net/R'))"
   ]
  },
  {
   "cell_type": "code",
   "execution_count": 7,
   "metadata": {},
   "outputs": [],
   "source": [
    "install.packages('rethinking', type='source', ref=\"Experimental\", .libPaths()[2])"
   ]
  },
  {
   "cell_type": "code",
   "execution_count": 8,
   "metadata": {},
   "outputs": [
    {
     "name": "stderr",
     "output_type": "stream",
     "text": [
      "Loading required package: rstan\n",
      "Loading required package: ggplot2\n",
      "Loading required package: StanHeaders\n",
      "rstan (Version 2.17.3, GitRev: 2e1f913d3ca3)\n",
      "For execution on a local, multicore CPU with excess RAM we recommend calling\n",
      "options(mc.cores = parallel::detectCores()).\n",
      "To avoid recompilation of unchanged Stan programs, we recommend calling\n",
      "rstan_options(auto_write = TRUE)\n",
      "Loading required package: parallel\n",
      "rethinking (Version 1.59)\n"
     ]
    }
   ],
   "source": [
    "library(rethinking)"
   ]
  },
  {
   "cell_type": "code",
   "execution_count": null,
   "metadata": {},
   "outputs": [],
   "source": []
  }
 ],
 "metadata": {
  "kernelspec": {
   "display_name": "R",
   "language": "R",
   "name": "ir"
  },
  "language_info": {
   "codemirror_mode": "r",
   "file_extension": ".r",
   "mimetype": "text/x-r-source",
   "name": "R",
   "pygments_lexer": "r",
   "version": "3.5.1"
  }
 },
 "nbformat": 4,
 "nbformat_minor": 2
}
